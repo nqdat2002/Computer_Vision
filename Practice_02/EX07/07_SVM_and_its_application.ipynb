{
  "nbformat": 4,
  "nbformat_minor": 0,
  "metadata": {
    "colab": {
      "provenance": []
    },
    "kernelspec": {
      "name": "python3",
      "display_name": "Python 3"
    },
    "language_info": {
      "name": "python"
    }
  },
  "cells": [
    {
      "cell_type": "code",
      "execution_count": 1,
      "metadata": {
        "colab": {
          "base_uri": "https://localhost:8080/"
        },
        "id": "kChvwsNZ3eJK",
        "outputId": "3230da2c-9eee-45fd-d7eb-9fb27dd1bfc3"
      },
      "outputs": [
        {
          "output_type": "stream",
          "name": "stdout",
          "text": [
            "93.84\n"
          ]
        }
      ],
      "source": [
        "import cv2 as cv\n",
        "import numpy as np\n",
        "SZ=20\n",
        "bin_n = 16\n",
        "affine_flags = cv.WARP_INVERSE_MAP|cv.INTER_LINEAR\n",
        "from sklearn import datasets, metrics, svm\n",
        "digits = datasets.load_digits()\n",
        "def deskew(img):\n",
        "    m = cv.moments(img)\n",
        "    if abs(m['mu02']) < 1e-2:\n",
        "        return img.copy()\n",
        "    skew = m['mu11']/m['mu02']\n",
        "    M = np.float32([[1, skew, -0.5*SZ*skew], [0, 1, 0]])\n",
        "    img = cv.warpAffine(img,M,(SZ, SZ),flags=affine_flags)\n",
        "    return img\n",
        "\n",
        "def hog(img):\n",
        "    gx = cv.Sobel(img, cv.CV_32F, 1, 0)\n",
        "    gy = cv.Sobel(img, cv.CV_32F, 0, 1)\n",
        "    mag, ang = cv.cartToPolar(gx, gy)\n",
        "    bins = np.int32(bin_n*ang/(2*np.pi))\n",
        "    bin_cells = bins[:10,:10], bins[10:,:10], bins[:10,10:], bins[10:,10:]\n",
        "    mag_cells = mag[:10,:10], mag[10:,:10], mag[:10,10:], mag[10:,10:]\n",
        "    hists = [np.bincount(b.ravel(), m.ravel(), bin_n) for b, m in zip(bin_cells, mag_cells)]\n",
        "    hist = np.hstack(hists)\n",
        "    return hist\n",
        "img = cv.imread(cv.samples.findFile('/content/drive/MyDrive/DataSet/TH02_07/digits.png'),0)\n",
        "if img is None:\n",
        "    raise Exception(\"we need the digits.png image from samples/data here !\")\n",
        "cells = [np.hsplit(row,100) for row in np.vsplit(img,50)]\n",
        "\n",
        "\n",
        "\n",
        "train_cells = [ i[:50] for i in cells ]\n",
        "test_cells = [ i[50:] for i in cells]\n",
        "deskewed = [list(map(deskew,row)) for row in train_cells]\n",
        "hogdata = [list(map(hog,row)) for row in deskewed]\n",
        "trainData = np.float32(hogdata).reshape(-1,64)\n",
        "responses = np.repeat(np.arange(10),250)[:,np.newaxis]\n",
        "svm = cv.ml.SVM_create()\n",
        "svm.setKernel(cv.ml.SVM_LINEAR)\n",
        "svm.setType(cv.ml.SVM_C_SVC)\n",
        "svm.setC(2.67)\n",
        "svm.setGamma(5.383)\n",
        "svm.train(trainData, cv.ml.ROW_SAMPLE, responses)\n",
        "svm.save('svm_data.dat')\n",
        "deskewed = [list(map(deskew,row)) for row in test_cells]\n",
        "hogdata = [list(map(hog,row)) for row in deskewed]\n",
        "testData = np.float32(hogdata).reshape(-1,bin_n*4)\n",
        "result = svm.predict(testData)[1]\n",
        "mask = result==responses\n",
        "correct = np.count_nonzero(mask)\n",
        "print(correct*100.0/result.size)"
      ]
    }
  ]
}